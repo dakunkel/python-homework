{
 "cells": [
  {
   "cell_type": "code",
   "execution_count": null,
   "id": "0173d0c9-8033-42e4-b11a-9122d0fc314e",
   "metadata": {},
   "outputs": [],
   "source": []
  }
 ],
 "metadata": {
  "kernelspec": {
   "display_name": "",
   "name": ""
  },
  "language_info": {
   "name": ""
  }
 },
 "nbformat": 4,
 "nbformat_minor": 5
}
